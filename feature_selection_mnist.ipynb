{
 "cells": [
  {
   "cell_type": "markdown",
   "metadata": {},
   "source": [
    "# Classificador KNN - MNIST\n",
    "\n",
    "Estamos interessados em reconhecer digitos utilizando nosso classificador KNN, promovendo uma seleção automática de atributos com o intuito de diminuir a dimensionalidade do problema e melhorar o desempenho do nosso classificador."
   ]
  },
  {
   "cell_type": "markdown",
   "metadata": {},
   "source": [
    "## Importando bibliotecas"
   ]
  },
  {
   "cell_type": "code",
   "execution_count": null,
   "metadata": {},
   "outputs": [],
   "source": [
    "# Para obter o data set de imagens\n",
    "from tensorflow.examples.tutorials.mnist import input_data\n",
    "# Biblioteca numpy\n",
    "import numpy as np\n",
    "# Classificador KNN\n",
    "from classifiers.neighbors import KNeighborsClassifier\n",
    "# Para medir o tempo de execução dos algoritmos\n",
    "from ext.timer import elapsed_timer\n",
    "# Para realizar a seleção dos atributos\n",
    "from sklearn.feature_selection import SelectKBest, chi2, RFE\n",
    "from sklearn.ensemble import ExtraTreesClassifier\n",
    "# Para dividir o data set \n",
    "from sklearn.model_selection import train_test_split"
   ]
  },
  {
   "cell_type": "markdown",
   "metadata": {},
   "source": [
    "## Obtendo o data set"
   ]
  },
  {
   "cell_type": "markdown",
   "metadata": {},
   "source": [
    "A seguir, utilizamos a biblioteca _tensorflow_ para obter o data set MNIST"
   ]
  },
  {
   "cell_type": "code",
   "execution_count": null,
   "metadata": {
    "scrolled": true
   },
   "outputs": [],
   "source": [
    "mnist = input_data.read_data_sets('datasets/MNIST_data/')"
   ]
  },
  {
   "cell_type": "code",
   "execution_count": null,
   "metadata": {},
   "outputs": [],
   "source": [
    "# Define o tamanho do data set:\n",
    "TAMANHO = 6000"
   ]
  },
  {
   "cell_type": "code",
   "execution_count": null,
   "metadata": {},
   "outputs": [],
   "source": [
    "def get_data():\n",
    "    X = np.asarray(mnist.train.images[:TAMANHO])\n",
    "    y = np.asarray(mnist.train.labels[:TAMANHO])\n",
    "    return X, y"
   ]
  },
  {
   "cell_type": "markdown",
   "metadata": {},
   "source": [
    "## Classificação\n",
    "\n",
    "### Definindo uma função que exibe os resultados"
   ]
  },
  {
   "cell_type": "code",
   "execution_count": null,
   "metadata": {},
   "outputs": [],
   "source": [
    "def mostrar_resultados(test_images, test_labels, pred):\n",
    "    i = 0\n",
    "    total_correct = 0\n",
    "    for test_image in test_images:\n",
    "        if pred[i] == test_labels[i]:\n",
    "            total_correct += 1\n",
    "        acc = (total_correct / (i+1)) * 100\n",
    "        print('test image['+str(i)+']', '\\tpred:', pred[i], '\\torig:', test_labels[i], '\\tacc:', str(round(acc, 2))+'%')\n",
    "        i += 1"
   ]
  },
  {
   "cell_type": "markdown",
   "metadata": {},
   "source": [
    "### Definindo uma função de classificação"
   ]
  },
  {
   "cell_type": "code",
   "execution_count": null,
   "metadata": {},
   "outputs": [],
   "source": [
    "def classificar(train_images, train_labels, test_images, test_labels):\n",
    "    with elapsed_timer() as elapsed:\n",
    "        classifier = KNeighborsClassifier(leaf_size=30, n_neighbors=3, algorithm='kd_tree')\n",
    "        classifier.fit(train_images, train_labels)\n",
    "        pred = classifier.predict(test_images)\n",
    "        print(\"Tempo de execução: \" + str(elapsed()))\n",
    "    mostrar_resultados(test_images, test_labels, pred)"
   ]
  },
  {
   "cell_type": "markdown",
   "metadata": {},
   "source": [
    "### Classificando imagens \n",
    "\n",
    "A seguir instanciamos o nosso classificador knn com os seguintes hiper-parâmetros:\n",
    "- Leaf size = 30\n",
    "- n_neighbors = 3\n",
    "- dist_metric = euclidean\n",
    "- weights = distance\n",
    "\n",
    "Iremos promover e testar a seleção de atributos utilizando os seguintes métodos:\n",
    "- Univariate Selection\n",
    "- Feature Importance"
   ]
  },
  {
   "cell_type": "code",
   "execution_count": null,
   "metadata": {},
   "outputs": [],
   "source": [
    "# Classificação com todos os atributos:\n",
    "X, y = get_data()\n",
    "X_train, X_test, y_train, y_test = train_test_split(X, y, test_size=0.33, random_state=42)\n",
    "\n",
    "classificar(X_train, y_train, X_test, y_test)"
   ]
  },
  {
   "cell_type": "markdown",
   "metadata": {},
   "source": [
    "### Univariate Selection\n",
    "\n",
    "Esse algoritmo procura selecionar os algoritmos que promovem relações mais fortes com a variável de saída. O parâmetro ```k``` em ```SelectKBest``` especifica quantos atributos queremos manter no data set.\n",
    "\n",
    "Note que cada instância contém 768 atributos, e portanto devemos procurar um número adequado de atributos que não prejudiquem a representatividade da imagem.\n",
    "\n",
    "Talvez possamos calcular a média dos scores dos atributos após a aplicação do método, e então selecionar apenas os atributos que tenham um score maior que a média."
   ]
  },
  {
   "cell_type": "code",
   "execution_count": null,
   "metadata": {},
   "outputs": [],
   "source": [
    "X, y = get_data()\n",
    "\n",
    "# Extração de atributos\n",
    "test = SelectKBest(score_func=chi2, k=768)\n",
    "fit = test.fit(X, y)\n",
    "\n",
    "np.set_printoptions(precision=3)\n",
    "X = fit.transform(X)\n",
    "\n",
    "# Calcula a média dos scores\n",
    "fit_scores = np.asarray(fit.scores_)\n",
    "mean = np.nanmean(fit_scores)\n",
    "# Quantidade de atributos:\n",
    "print((fit_scores > mean).sum())"
   ]
  },
  {
   "cell_type": "code",
   "execution_count": null,
   "metadata": {},
   "outputs": [],
   "source": [
    "# Executa novamente:\n",
    "\n",
    "X, y = get_data()\n",
    "\n",
    "test = SelectKBest(score_func=chi2, k=289)\n",
    "fit = test.fit(X, y)\n",
    "np.set_printoptions(precision=3)\n",
    "X = fit.transform(X)\n",
    "\n",
    "X_train, X_test, y_train, y_test = train_test_split(X, y, test_size=0.33, random_state=42)"
   ]
  },
  {
   "cell_type": "code",
   "execution_count": null,
   "metadata": {},
   "outputs": [],
   "source": [
    "# Testa o desempenho do classificador:\n",
    "classificar(X_train, y_train, X_test, y_test)"
   ]
  },
  {
   "cell_type": "markdown",
   "metadata": {},
   "source": [
    "Houve pouca diferença quanto ao desempenho do método, mas considere que diminuimos a dimensão por mais da metade. A velocidade com uma quantidade de menor dimensões é reduzida. \n",
    "\n",
    "É razoável supor que com mais alguns ajustes o desempenho do algoritmo melhore, pois supomos uma heurística para resolver o problema e não testamos outra quantidade de seleção de atributos."
   ]
  },
  {
   "cell_type": "markdown",
   "metadata": {},
   "source": [
    "### Feature Importance"
   ]
  },
  {
   "cell_type": "code",
   "execution_count": null,
   "metadata": {},
   "outputs": [],
   "source": [
    "X, y = get_data()\n",
    "\n",
    "model = ExtraTreesClassifier()\n",
    "model.fit(X, y)\n",
    "\n",
    "X_train, X_test, y_train, y_test = train_test_split(X, y, test_size=0.33, random_state=42)"
   ]
  },
  {
   "cell_type": "code",
   "execution_count": null,
   "metadata": {},
   "outputs": [],
   "source": [
    "# Testa o desempenho do classificador:\n",
    "classificar(X_train, y_train, X_test, y_test)"
   ]
  },
  {
   "cell_type": "markdown",
   "metadata": {},
   "source": [
    "## Referencias\n",
    "\n",
    "Rahul Bhalley. __Digit recognition__. 2017. _https://towardsdatascience.com/mnist-with-k-nearest-neighbors-8f6e7003fab7_. \n",
    "\n",
    "Jason Brownlee. __Feature Selection For Machine Learning in Python__. May 20, 2016. Disponível em _https://machinelearningmastery.com/feature-selection-machine-learning-python/_."
   ]
  }
 ],
 "metadata": {
  "kernelspec": {
   "display_name": "Python 3",
   "language": "python",
   "name": "python3"
  },
  "language_info": {
   "codemirror_mode": {
    "name": "ipython",
    "version": 3
   },
   "file_extension": ".py",
   "mimetype": "text/x-python",
   "name": "python",
   "nbconvert_exporter": "python",
   "pygments_lexer": "ipython3",
   "version": "3.6.4"
  }
 },
 "nbformat": 4,
 "nbformat_minor": 2
}
