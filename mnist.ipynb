{
 "cells": [
  {
   "cell_type": "markdown",
   "metadata": {},
   "source": [
    "# Classificador KNN - MNIST\n",
    "\n",
    "Estamos interessados em reconhecer digitos utilizando nosso classificador KNN.\n",
    "Resolver esse problema através do algoritmo KNN é extremamente simples, fazemos exatamente a mesma coisa que faríamos para classificar outro tipo de dado, apenas cada imagem como um vetor de pixels."
   ]
  },
  {
   "cell_type": "markdown",
   "metadata": {},
   "source": [
    "## Importando bibliotecas"
   ]
  },
  {
   "cell_type": "code",
   "execution_count": null,
   "metadata": {},
   "outputs": [],
   "source": [
    "# Para obter o data set de imagens\n",
    "from tensorflow.examples.tutorials.mnist import input_data\n",
    "# Biblioteca numpy\n",
    "import numpy as np\n",
    "# Classificador KNN\n",
    "from classifiers.neighbors import KNeighborsClassifier\n",
    "# Para medir o tempo de execução dos algoritmos\n",
    "from ext.timer import elapsed_timer"
   ]
  },
  {
   "cell_type": "markdown",
   "metadata": {},
   "source": [
    "## Obtendo o data set"
   ]
  },
  {
   "cell_type": "markdown",
   "metadata": {},
   "source": [
    "A seguir, utilizamos a biblioteca _tensorflow_ para obter o data set MNIST"
   ]
  },
  {
   "cell_type": "code",
   "execution_count": null,
   "metadata": {
    "scrolled": true
   },
   "outputs": [],
   "source": [
    "mnist = input_data.read_data_sets('datasets/MNIST_data/')"
   ]
  },
  {
   "cell_type": "code",
   "execution_count": null,
   "metadata": {},
   "outputs": [],
   "source": [
    "# Define o tamanho do data set:\n",
    "TAMANHO = 5000"
   ]
  },
  {
   "cell_type": "code",
   "execution_count": null,
   "metadata": {},
   "outputs": [],
   "source": [
    "train_images = np.asarray(mnist.train.images[:TAMANHO])\n",
    "train_labels = np.asarray(mnist.train.labels[:TAMANHO])\n",
    "test_images = np.asarray(mnist.test.images)\n",
    "test_labels = np.asarray(mnist.test.labels)"
   ]
  },
  {
   "cell_type": "markdown",
   "metadata": {},
   "source": [
    "## Classificação\n",
    "\n",
    "### Definindo uma função que exibe os resultados"
   ]
  },
  {
   "cell_type": "code",
   "execution_count": null,
   "metadata": {},
   "outputs": [],
   "source": [
    "def mostrar_resultados(test_images, pred):\n",
    "    i = 0\n",
    "    total_correct = 0\n",
    "    for test_image in test_images:\n",
    "        if pred[i] == test_labels[i]:\n",
    "            total_correct += 1\n",
    "        acc = (total_correct / (i+1)) * 100\n",
    "        print('test image['+str(i)+']', '\\tpred:', pred[i], '\\torig:', test_labels[i], '\\tacc:', str(round(acc, 2))+'%')\n",
    "        i += 1"
   ]
  },
  {
   "cell_type": "markdown",
   "metadata": {},
   "source": [
    "### Classificando imagens \n",
    "\n",
    "#### Algoritmo KD-Tree\n",
    "\n",
    "A seguir instanciamos o nosso classificador knn com o algoritmo _kd-tree_. \n",
    "\n",
    "Observe como a acurácia do data set de teste muda conforme o valor do tamanho da folha."
   ]
  },
  {
   "cell_type": "code",
   "execution_count": null,
   "metadata": {
    "scrolled": true
   },
   "outputs": [],
   "source": [
    "# Testando com o tamanho de folha igual a 30\n",
    "with elapsed_timer() as elapsed:\n",
    "    classifier = KNeighborsClassifier(leaf_size=30, n_neighbors=5, algorithm='kd_tree')\n",
    "    classifier.fit(train_images, train_labels)\n",
    "    pred = classifier.predict(test_images)\n",
    "    print(\"Tempo de execução: \" + str(elapsed()))\n",
    "\n",
    "mostrar_resultados(test_images, pred)"
   ]
  },
  {
   "cell_type": "code",
   "execution_count": null,
   "metadata": {},
   "outputs": [],
   "source": [
    "# Testando com o tamanho de folha igual a 100\n",
    "with elapsed_timer() as elapsed:\n",
    "    classifier = KNeighborsClassifier(leaf_size=100, n_neighbors=5, algorithm='kd_tree')\n",
    "    classifier.fit(train_images, train_labels)\n",
    "    pred = classifier.predict(test_images)\n",
    "    print(\"Tempo de execução: \" + str(elapsed()))\n",
    "    \n",
    "mostrar_resultados(test_images, pred)"
   ]
  },
  {
   "cell_type": "code",
   "execution_count": null,
   "metadata": {},
   "outputs": [],
   "source": [
    "# Testando com o tamanho de folha igual a 1000\n",
    "with elapsed_timer() as elapsed:\n",
    "    classifier = KNeighborsClassifier(leaf_size=1000, n_neighbors=5, algorithm='kd_tree')\n",
    "    classifier.fit(train_images, train_labels)\n",
    "    pred = classifier.predict(test_images)\n",
    "    print(\"Tempo de execução: \" + str(elapsed()))   \n",
    "\n",
    "mostrar_resultados(test_images, pred)"
   ]
  },
  {
   "cell_type": "markdown",
   "metadata": {},
   "source": [
    "#### Algoritmo de força bruta"
   ]
  },
  {
   "cell_type": "code",
   "execution_count": null,
   "metadata": {},
   "outputs": [],
   "source": [
    "with elapsed_timer() as elapsed:\n",
    "    classifier = KNeighborsClassifier(algorithm='brute')\n",
    "    classifier.fit(train_images, train_labels)\n",
    "    pred = classifier.predict(test_images)\n",
    "    print(\"Tempo de execução: \" + str(elapsed()))\n",
    "\n",
    "mostrar_resultados(test_images, pred)"
   ]
  },
  {
   "cell_type": "markdown",
   "metadata": {},
   "source": [
    "### Comparando resultados com sci-kit learn\n",
    "\n",
    "O _sci-kit learn_ implementa o algoritmo de classificação KNN de forma extremamente eficiente. Observe os resultados obtidos ao classificar os dígitos usando a biblioteca ```sklearn.neighbors```."
   ]
  },
  {
   "cell_type": "code",
   "execution_count": null,
   "metadata": {},
   "outputs": [],
   "source": [
    "# Classificador KNN do sci-kit learn\n",
    "from sklearn.neighbors import KNeighborsClassifier"
   ]
  },
  {
   "cell_type": "code",
   "execution_count": null,
   "metadata": {},
   "outputs": [],
   "source": [
    "# Pelo algoritmo kd-tree:\n",
    "with elapsed_timer() as elapsed:\n",
    "    classifier = KNeighborsClassifier(algorithm='kd_tree')\n",
    "    classifier.fit(train_images, train_labels)\n",
    "    pred = classifier.predict(test_images)\n",
    "    print(\"Tempo de execução: \" + str(elapsed()))\n",
    "\n",
    "mostrar_resultados(test_images, pred)"
   ]
  },
  {
   "cell_type": "code",
   "execution_count": null,
   "metadata": {},
   "outputs": [],
   "source": [
    "# Pelo algoritmo de força bruta:\n",
    "with elapsed_timer() as elapsed:\n",
    "    classifier = KNeighborsClassifier(algorithm='brute')\n",
    "    classifier.fit(train_images, train_labels)\n",
    "    pred = classifier.predict(test_images)\n",
    "    print(\"Tempo de execução: \" + str(elapsed()))\n",
    "\n",
    "mostrar_resultados(test_images, pred)"
   ]
  },
  {
   "cell_type": "markdown",
   "metadata": {},
   "source": [
    "## Referencias\n",
    "\n",
    "Rahul Bhalley, 2017. __Digit recognition__. _https://towardsdatascience.com/mnist-with-k-nearest-neighbors-8f6e7003fab7_. "
   ]
  }
 ],
 "metadata": {
  "kernelspec": {
   "display_name": "Python 3",
   "language": "python",
   "name": "python3"
  },
  "language_info": {
   "codemirror_mode": {
    "name": "ipython",
    "version": 3
   },
   "file_extension": ".py",
   "mimetype": "text/x-python",
   "name": "python",
   "nbconvert_exporter": "python",
   "pygments_lexer": "ipython3",
   "version": "3.6.4"
  }
 },
 "nbformat": 4,
 "nbformat_minor": 2
}
