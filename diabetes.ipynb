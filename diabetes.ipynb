{
 "cells": [
  {
   "cell_type": "markdown",
   "metadata": {},
   "source": [
    "# Classificador KNN - \"Diabetes\"\n",
    "\n",
    "Estamos interessados em predizer classes do data set \"diabetes\" (weka) utilizando nosso classificador KNN."
   ]
  },
  {
   "cell_type": "markdown",
   "metadata": {},
   "source": [
    "## Importando bibliotecas"
   ]
  },
  {
   "cell_type": "code",
   "execution_count": null,
   "metadata": {},
   "outputs": [],
   "source": [
    "# Para obter o data set\n",
    "from util.dataparser import DataParser as dp\n",
    "# Biblioteca numpy\n",
    "import numpy as np\n",
    "# Classificador KNN\n",
    "from classifiers.neighbors import KNeighborsClassifier\n",
    "# Para medir o tempo de execução dos algoritmos\n",
    "from ext.timer import elapsed_timer"
   ]
  },
  {
   "cell_type": "markdown",
   "metadata": {},
   "source": [
    "## Obtendo o data set"
   ]
  },
  {
   "cell_type": "code",
   "execution_count": null,
   "metadata": {
    "scrolled": true
   },
   "outputs": [],
   "source": [
    "X, y = dp.arff_data('datasets/diabetes.arff')"
   ]
  },
  {
   "cell_type": "code",
   "execution_count": null,
   "metadata": {},
   "outputs": [],
   "source": [
    "X = np.asarray(X)\n",
    "Y = np.asarray(y)\n",
    "X\n",
    "Y"
   ]
  },
  {
   "cell_type": "markdown",
   "metadata": {},
   "source": [
    "Permutamos o nosso data set para obter instâncias randomicas de treino e teste:"
   ]
  },
  {
   "cell_type": "code",
   "execution_count": null,
   "metadata": {},
   "outputs": [],
   "source": [
    "indices = np.random.permutation(len(X))\n",
    "X_train = X[indices[:-10]]\n",
    "y_train = y[indices[:-10]]\n",
    "X_test  = X[indices[-10:]]\n",
    "y_test  = y[indices[-10:]]\n",
    "\n",
    "X_train, y_train\n",
    "X_test, y_test"
   ]
  },
  {
   "cell_type": "markdown",
   "metadata": {},
   "source": [
    "## Classificação\n",
    "\n",
    "### Definindo uma função que exibe os resultados"
   ]
  },
  {
   "cell_type": "code",
   "execution_count": null,
   "metadata": {},
   "outputs": [],
   "source": [
    "def mostrar_resultados(X_test, pred):\n",
    "    i = 0\n",
    "    total_correct = 0\n",
    "    for test in X_test:\n",
    "        if pred[i] == y_test[i]:\n",
    "            total_correct += 1\n",
    "        acc = (total_correct / (i+1)) * 100\n",
    "        print('test['+str(i)+']', '\\tpred:', pred[i], '\\torig:', y_test[i], '\\tacc:', str(round(acc, 2))+'%')\n",
    "        i += 1"
   ]
  },
  {
   "cell_type": "markdown",
   "metadata": {},
   "source": [
    "### Classificando imagens \n",
    "\n",
    "#### Algoritmo KD-Tree\n",
    "\n",
    "A seguir instanciamos o nosso classificador knn com o algoritmo _kd-tree_. \n",
    "\n",
    "Observe como a acurácia do data set de teste muda conforme o valor do tamanho da folha."
   ]
  },
  {
   "cell_type": "code",
   "execution_count": null,
   "metadata": {
    "scrolled": true
   },
   "outputs": [],
   "source": [
    "# Testando com o tamanho de folha igual a 30\n",
    "with elapsed_timer() as elapsed:\n",
    "    classifier = KNeighborsClassifier(leaf_size=30, n_neighbors=5, algorithm='kd_tree')\n",
    "    classifier.fit(X_train, y_train)\n",
    "    pred = classifier.predict(X_test)\n",
    "    print(\"Tempo de execução: \" + str(elapsed()))\n",
    "\n",
    "mostrar_resultados(y_test, pred)"
   ]
  },
  {
   "cell_type": "code",
   "execution_count": null,
   "metadata": {},
   "outputs": [],
   "source": [
    "# Testando com o tamanho de folha igual a 100\n",
    "with elapsed_timer() as elapsed:\n",
    "    classifier = KNeighborsClassifier(leaf_size=100, n_neighbors=5, algorithm='kd_tree')\n",
    "    classifier.fit(X_train, y_train)\n",
    "    pred = classifier.predict(X_test)\n",
    "    print(\"Tempo de execução: \" + str(elapsed()))\n",
    "    \n",
    "mostrar_resultados(y_test, pred)"
   ]
  },
  {
   "cell_type": "code",
   "execution_count": null,
   "metadata": {},
   "outputs": [],
   "source": [
    "# Testando com o tamanho de folha igual a 1000\n",
    "with elapsed_timer() as elapsed:\n",
    "    classifier = KNeighborsClassifier(leaf_size=1000, n_neighbors=5, algorithm='kd_tree')\n",
    "    classifier.fit(X_train, y_train)\n",
    "    pred = classifier.predict(X_test)\n",
    "    print(\"Tempo de execução: \" + str(elapsed()))   \n",
    "\n",
    "mostrar_resultados(y_test, pred)"
   ]
  },
  {
   "cell_type": "markdown",
   "metadata": {},
   "source": [
    "#### Algoritmo de força bruta"
   ]
  },
  {
   "cell_type": "code",
   "execution_count": null,
   "metadata": {},
   "outputs": [],
   "source": [
    "with elapsed_timer() as elapsed:\n",
    "    classifier = KNeighborsClassifier(algorithm='brute')\n",
    "    classifier.fit(X_train, y_train)\n",
    "    pred = classifier.predict(X_test)\n",
    "    print(\"Tempo de execução: \" + str(elapsed()))\n",
    "\n",
    "mostrar_resultados(y_test, pred)"
   ]
  },
  {
   "cell_type": "markdown",
   "metadata": {},
   "source": [
    "### Comparando resultados com sci-kit learn\n",
    "\n",
    "O _sci-kit learn_ implementa o algoritmo de classificação KNN de forma extremamente eficiente. Observe os resultados obtidos ao classificar os dígitos usando a biblioteca ```sklearn.neighbors```."
   ]
  },
  {
   "cell_type": "code",
   "execution_count": null,
   "metadata": {},
   "outputs": [],
   "source": [
    "# Classificador KNN do sci-kit learn\n",
    "from sklearn.neighbors import KNeighborsClassifier"
   ]
  },
  {
   "cell_type": "code",
   "execution_count": null,
   "metadata": {},
   "outputs": [],
   "source": [
    "# Pelo algoritmo kd-tree:\n",
    "with elapsed_timer() as elapsed:\n",
    "    classifier = KNeighborsClassifier(algorithm='kd_tree')\n",
    "    classifier.fit(X_train, y_train)\n",
    "    pred = classifier.predict(X_test)\n",
    "    print(\"Tempo de execução: \" + str(elapsed()))\n",
    "\n",
    "mostrar_resultados(y_test, pred)"
   ]
  },
  {
   "cell_type": "code",
   "execution_count": null,
   "metadata": {},
   "outputs": [],
   "source": [
    "# Pelo algoritmo de força bruta:\n",
    "with elapsed_timer() as elapsed:\n",
    "    classifier = KNeighborsClassifier(algorithm='brute')\n",
    "    classifier.fit(X_train, y_train)\n",
    "    pred = classifier.predict(X_test)\n",
    "    print(\"Tempo de execução: \" + str(elapsed()))\n",
    "\n",
    "mostrar_resultados(y_test, pred)"
   ]
  },
  {
   "cell_type": "markdown",
   "metadata": {},
   "source": [
    "## Referencias\n",
    "\n",
    "Rahul Bhalley, 2017. __Digit recognition__. _https://towardsdatascience.com/mnist-with-k-nearest-neighbors-8f6e7003fab7_. "
   ]
  },
  {
   "cell_type": "code",
   "execution_count": null,
   "metadata": {},
   "outputs": [],
   "source": []
  }
 ],
 "metadata": {
  "kernelspec": {
   "display_name": "Python 3",
   "language": "python",
   "name": "python3"
  },
  "language_info": {
   "codemirror_mode": {
    "name": "ipython",
    "version": 3
   },
   "file_extension": ".py",
   "mimetype": "text/x-python",
   "name": "python",
   "nbconvert_exporter": "python",
   "pygments_lexer": "ipython3",
   "version": "3.6.4"
  }
 },
 "nbformat": 4,
 "nbformat_minor": 2
}
