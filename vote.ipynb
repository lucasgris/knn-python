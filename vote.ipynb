{
 "cells": [
  {
   "cell_type": "markdown",
   "metadata": {},
   "source": [
    "# Classificador KNN - \"Vote\"\n",
    "\n",
    "Estamos interessados em predizer classes do data set \"vote\" (weka) utilizando nosso classificador KNN."
   ]
  },
  {
   "cell_type": "markdown",
   "metadata": {},
   "source": [
    "## Importando bibliotecas"
   ]
  },
  {
   "cell_type": "code",
   "execution_count": null,
   "metadata": {},
   "outputs": [],
   "source": [
    "# Para obter o data set\n",
    "from util.dataparser import DataParser as dp\n",
    "# Biblioteca numpy\n",
    "import numpy as np\n",
    "# Classificador KNN\n",
    "from classifiers.neighbors import KNeighborsClassifier\n",
    "# Para medir o tempo de execução dos algoritmos\n",
    "from ext.timer import elapsed_timer"
   ]
  },
  {
   "cell_type": "markdown",
   "metadata": {},
   "source": [
    "## Obtendo o data set"
   ]
  },
  {
   "cell_type": "code",
   "execution_count": null,
   "metadata": {
    "scrolled": true
   },
   "outputs": [],
   "source": [
    "def get_dataset():\n",
    "    X, y = dp.arff_data('datasets/vote.arff', attr_type=None)\n",
    "\n",
    "    X = np.asarray(X)\n",
    "    y = np.asarray(y)\n",
    "    return X, y\n",
    "\n",
    "X, y = get_dataset()\n",
    "\n",
    "print(\"Instâncias:{}\".format(len(X)))"
   ]
  },
  {
   "cell_type": "markdown",
   "metadata": {},
   "source": [
    "Perceba que algumas instâncias do data set contém alguns valores de atributos faltando. Além disso, nossos atributos não são numericos, logo, precisamos realizar algum tipo de pré-processamento."
   ]
  },
  {
   "cell_type": "markdown",
   "metadata": {},
   "source": [
    "### Pré-processamento\n",
    "\n",
    "Para lidar com os dados ausentes, podemos eliminar as instâncias com essa falta de dados, ou ainda poderíamos tratar esse problema com outra abordagem. Por ora, iremos eliminar as instâncias e analizar seus efeitos."
   ]
  },
  {
   "cell_type": "code",
   "execution_count": null,
   "metadata": {},
   "outputs": [],
   "source": [
    "missing = []\n",
    "for i in range(len(X)):\n",
    "    if '?' in X[i]:\n",
    "        missing.append(i)\n",
    "        \n",
    "X = np.delete(X, missing, axis=0)\n",
    "y = np.delete(y, missing, axis=0)\n",
    "\n",
    "len(X)"
   ]
  },
  {
   "cell_type": "markdown",
   "metadata": {},
   "source": [
    "Perceba que nosso data set praticamente diminuiu pela metade. Isso pode não ser viável, já que temos muitos atributos e a maldição da dimensionalidade pode se agravar nesse caso. \n",
    "\n",
    "Podemos substituir os valores ausentes pela média dos valores de todas as instâncias para aquele atributo. Mas primeiro, devemos obter o dataset original novamente e transformar nossos atributos nominais em numéricos."
   ]
  },
  {
   "cell_type": "code",
   "execution_count": null,
   "metadata": {},
   "outputs": [],
   "source": [
    "X, y = get_dataset()"
   ]
  },
  {
   "cell_type": "markdown",
   "metadata": {},
   "source": [
    "Note que os dados do data set são binários, logo, podemos fazer  uma substituição simples de 'y' para 1, e 'n' para 0."
   ]
  },
  {
   "cell_type": "code",
   "execution_count": null,
   "metadata": {},
   "outputs": [],
   "source": [
    "X[X == \"'y'\"] = '1'\n",
    "X[X == \"'n'\"] = '0'\n",
    "X[X == '?'] = -1  # Iremos tratar este caso a seguir\n",
    "\n",
    "X = X.astype(float)  # Casting dos valores para int\n",
    "\n",
    "X[X == -1.] = np.nan"
   ]
  },
  {
   "cell_type": "markdown",
   "metadata": {},
   "source": [
    "Agora precisamos calcular a média dos valores de cada atributo e substituir os dados ausentes."
   ]
  },
  {
   "cell_type": "code",
   "execution_count": null,
   "metadata": {},
   "outputs": [],
   "source": [
    "means = np.nanmean(X, axis=0)\n",
    "\n",
    "for i in range(X.shape[0]):\n",
    "    for j in range(X.shape[1]):\n",
    "        if np.isnan(X[i, j]):\n",
    "            X[i, j] = means[j]\n",
    "            \n",
    "X"
   ]
  },
  {
   "cell_type": "markdown",
   "metadata": {},
   "source": [
    "Permutamos o nosso data set para obter instâncias randomicas de treino e teste:"
   ]
  },
  {
   "cell_type": "code",
   "execution_count": null,
   "metadata": {},
   "outputs": [],
   "source": [
    "indices = np.random.permutation(len(X))\n",
    "X_train = X[indices[:-20]]\n",
    "y_train = y[indices[:-20]]\n",
    "X_test  = X[indices[-20:]]\n",
    "y_test  = y[indices[-20:]]\n",
    "\n",
    "X_train, y_train\n",
    "X_test, y_test"
   ]
  },
  {
   "cell_type": "markdown",
   "metadata": {},
   "source": [
    "## Classificação\n",
    "\n",
    "### Definindo uma função que exibe os resultados"
   ]
  },
  {
   "cell_type": "code",
   "execution_count": null,
   "metadata": {},
   "outputs": [],
   "source": [
    "def mostrar_resultados(X_test, pred):\n",
    "    i = 0\n",
    "    total_correct = 0\n",
    "    for test in X_test:\n",
    "        if pred[i] == y_test[i]:\n",
    "            total_correct += 1\n",
    "        acc = (total_correct / (i+1)) * 100\n",
    "        print('test['+str(i)+']', '\\tpred:', pred[i], '\\torig:', y_test[i], '\\tacc:', str(round(acc, 2))+'%')\n",
    "        i += 1"
   ]
  },
  {
   "cell_type": "markdown",
   "metadata": {},
   "source": [
    "### Classificando imagens \n",
    "\n",
    "#### Algoritmo KD-Tree\n",
    "\n",
    "A seguir instanciamos o nosso classificador knn com o algoritmo _kd-tree_. \n",
    "\n",
    "Observe como a acurácia do data set de teste muda conforme o valor do tamanho da folha."
   ]
  },
  {
   "cell_type": "code",
   "execution_count": null,
   "metadata": {
    "scrolled": true
   },
   "outputs": [],
   "source": [
    "# Testando com o tamanho de folha igual a 30\n",
    "with elapsed_timer() as elapsed:\n",
    "    classifier = KNeighborsClassifier(leaf_size=30, n_neighbors=5, algorithm='kd_tree')\n",
    "    classifier.fit(X_train, y_train)\n",
    "    pred = classifier.predict(X_test)\n",
    "    print(\"Tempo de execução: \" + str(elapsed()))\n",
    "\n",
    "mostrar_resultados(y_test, pred)"
   ]
  },
  {
   "cell_type": "code",
   "execution_count": null,
   "metadata": {},
   "outputs": [],
   "source": [
    "# Testando com o tamanho de folha igual a 100\n",
    "with elapsed_timer() as elapsed:\n",
    "    classifier = KNeighborsClassifier(leaf_size=100, n_neighbors=5, algorithm='kd_tree')\n",
    "    classifier.fit(X_train, y_train)\n",
    "    pred = classifier.predict(X_test)\n",
    "    print(\"Tempo de execução: \" + str(elapsed()))\n",
    "    \n",
    "mostrar_resultados(y_test, pred)"
   ]
  },
  {
   "cell_type": "code",
   "execution_count": null,
   "metadata": {},
   "outputs": [],
   "source": [
    "# Testando com o tamanho de folha igual a 1000\n",
    "with elapsed_timer() as elapsed:\n",
    "    classifier = KNeighborsClassifier(leaf_size=1000, n_neighbors=5, algorithm='kd_tree')\n",
    "    classifier.fit(X_train, y_train)\n",
    "    pred = classifier.predict(X_test)\n",
    "    print(\"Tempo de execução: \" + str(elapsed()))   \n",
    "\n",
    "mostrar_resultados(y_test, pred)"
   ]
  },
  {
   "cell_type": "markdown",
   "metadata": {},
   "source": [
    "#### Algoritmo de força bruta"
   ]
  },
  {
   "cell_type": "code",
   "execution_count": null,
   "metadata": {},
   "outputs": [],
   "source": [
    "with elapsed_timer() as elapsed:\n",
    "    classifier = KNeighborsClassifier(algorithm='brute')\n",
    "    classifier.fit(X_train, y_train)\n",
    "    pred = classifier.predict(X_test)\n",
    "    print(\"Tempo de execução: \" + str(elapsed()))\n",
    "\n",
    "mostrar_resultados(y_test, pred)"
   ]
  },
  {
   "cell_type": "markdown",
   "metadata": {},
   "source": [
    "### Comparando resultados com sci-kit learn\n",
    "\n",
    "O _sci-kit learn_ implementa o algoritmo de classificação KNN de forma extremamente eficiente. Observe os resultados obtidos ao classificar os dígitos usando a biblioteca ```sklearn.neighbors```."
   ]
  },
  {
   "cell_type": "code",
   "execution_count": null,
   "metadata": {},
   "outputs": [],
   "source": [
    "# Classificador KNN do sci-kit learn\n",
    "from sklearn.neighbors import KNeighborsClassifier"
   ]
  },
  {
   "cell_type": "code",
   "execution_count": null,
   "metadata": {},
   "outputs": [],
   "source": [
    "# Pelo algoritmo kd-tree:\n",
    "with elapsed_timer() as elapsed:\n",
    "    classifier = KNeighborsClassifier(algorithm='kd_tree')\n",
    "    classifier.fit(X_train, y_train)\n",
    "    pred = classifier.predict(X_test)\n",
    "    print(\"Tempo de execução: \" + str(elapsed()))\n",
    "\n",
    "mostrar_resultados(y_test, pred)"
   ]
  },
  {
   "cell_type": "code",
   "execution_count": null,
   "metadata": {},
   "outputs": [],
   "source": [
    "# Pelo algoritmo de força bruta:\n",
    "with elapsed_timer() as elapsed:\n",
    "    classifier = KNeighborsClassifier(algorithm='brute')\n",
    "    classifier.fit(X_train, y_train)\n",
    "    pred = classifier.predict(X_test)\n",
    "    print(\"Tempo de execução: \" + str(elapsed()))\n",
    "\n",
    "mostrar_resultados(y_test, pred)"
   ]
  },
  {
   "cell_type": "markdown",
   "metadata": {},
   "source": [
    "## Referencias\n",
    "\n",
    "Rahul Bhalley, 2017. __Digit recognition__. _https://towardsdatascience.com/mnist-with-k-nearest-neighbors-8f6e7003fab7_. "
   ]
  },
  {
   "cell_type": "code",
   "execution_count": null,
   "metadata": {},
   "outputs": [],
   "source": []
  }
 ],
 "metadata": {
  "kernelspec": {
   "display_name": "Python 3",
   "language": "python",
   "name": "python3"
  },
  "language_info": {
   "codemirror_mode": {
    "name": "ipython",
    "version": 3
   },
   "file_extension": ".py",
   "mimetype": "text/x-python",
   "name": "python",
   "nbconvert_exporter": "python",
   "pygments_lexer": "ipython3",
   "version": "3.6.4"
  }
 },
 "nbformat": 4,
 "nbformat_minor": 2
}
